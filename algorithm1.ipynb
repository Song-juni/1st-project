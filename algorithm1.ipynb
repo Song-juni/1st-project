{
  "nbformat": 4,
  "nbformat_minor": 0,
  "metadata": {
    "colab": {
      "name": "a1.ipynb",
      "provenance": [],
      "authorship_tag": "ABX9TyMYPz6ZS5EP9p8uOZCLrdlW",
      "include_colab_link": true
    },
    "kernelspec": {
      "name": "python3",
      "display_name": "Python 3"
    },
    "language_info": {
      "name": "python"
    }
  },
  "cells": [
    {
      "cell_type": "markdown",
      "metadata": {
        "id": "view-in-github",
        "colab_type": "text"
      },
      "source": [
        "<a href=\"https://colab.research.google.com/github/Song-juni/1st-project/blob/main/algorithm1.ipynb\" target=\"_parent\"><img src=\"https://colab.research.google.com/assets/colab-badge.svg\" alt=\"Open In Colab\"/></a>"
      ]
    },
    {
      "cell_type": "code",
      "execution_count": 3,
      "metadata": {
        "colab": {
          "base_uri": "https://localhost:8080/"
        },
        "id": "qYgypLI7U_Ie",
        "outputId": "6564e4a8-02dd-493c-b05b-7deef10c81a8"
      },
      "outputs": [
        {
          "output_type": "stream",
          "name": "stdout",
          "text": [
            "세개의 정수값을 입력하세여\n",
            "n1의 정수값을 입력: 15\n",
            "n2의 정수값을 입력: 25\n",
            "n3의 정수값을 입력: 35\n",
            "25.0\n"
          ]
        }
      ],
      "source": [
        "print(\"세개의 정수값을 입력하세여\")\n",
        "n1 = int(input(\"n1의 정수값을 입력: \"))\n",
        "n2 = int(input(\"n2의 정수값을 입력: \"))\n",
        "n3 = int(input(\"n3의 정수값을 입력: \"))\n",
        "\n",
        "total = n1 + n2 + n3\n",
        "average = total/3 \n",
        "print(average)\n",
        "\n"
      ]
    },
    {
      "cell_type": "code",
      "source": [
        "import math\n",
        "\n",
        "print(\"'a, b, c' 3개의 값을 입력하시오\")\n",
        "a = int(input(\"Enter the a: \"))\n",
        "b = int(input(\"Enter the b: \"))\n",
        "c = int(input(\"Enter the c: \"))\n",
        "d = math.sqrt(b*b) - (4*a*c)\n",
        "x1 = (-b+d) / (2 * a)\n",
        "x2 = (-b-d) / (2 * a)\n",
        "print(x1, x2)"
      ],
      "metadata": {
        "colab": {
          "base_uri": "https://localhost:8080/"
        },
        "id": "kXgyadJSXrEV",
        "outputId": "255eb9db-1c15-4971-e0f9-066a8497c79e"
      },
      "execution_count": 7,
      "outputs": [
        {
          "output_type": "stream",
          "name": "stdout",
          "text": [
            "'a, b, c' 3개의 값을 입력하시오\n",
            "Enter the a: 5\n",
            "Enter the b: 7\n",
            "Enter the c: 11\n",
            "-22.0 20.6\n"
          ]
        }
      ]
    },
    {
      "cell_type": "code",
      "source": [
        "import math\n",
        "\n",
        "a = int(input(\"a의 값을 입력하세요: \"))\n",
        "b = int(input(\"b의 값을 입력하세요: \"))\n",
        "c = int(input(\"c의 값을 입력하세요: \"))\n",
        "x1 = ((-b + (math.sqrt(math.pow(b,2) - 4 * a * c)))/2 * a)\n",
        "x2 = ((-b - (math.sqrt(math.pow(b,2) - 4 * a * c)))/2 * a)\n",
        "\n",
        "print(\"x1 = \" , x1)\n",
        "print(\"x2 = \" , x2)"
      ],
      "metadata": {
        "colab": {
          "base_uri": "https://localhost:8080/"
        },
        "id": "35SwJfUraR3J",
        "outputId": "fb463360-ac6e-4d29-864b-2bf2909b6f77"
      },
      "execution_count": 9,
      "outputs": [
        {
          "output_type": "stream",
          "name": "stdout",
          "text": [
            "a의 값을 입력하세요: 1\n",
            "b의 값을 입력하세요: 2\n",
            "c의 값을 입력하세요: 1\n",
            "x1 =  -1.0\n",
            "x2 =  -1.0\n"
          ]
        }
      ]
    },
    {
      "cell_type": "code",
      "source": [
        "total = 0\n",
        "counter = 1\n",
        "while counter <= 10:\n",
        "    grade = int(input (\"Enter grade: \"))   \n",
        "    total = grade + total\n",
        "    counter = counter + 1\n",
        "average = total / 10\n",
        "print(average)"
      ],
      "metadata": {
        "colab": {
          "base_uri": "https://localhost:8080/"
        },
        "id": "97FhiM6Lbfr4",
        "outputId": "6e45a5be-9c01-420d-9edd-8de08ff1ce2b"
      },
      "execution_count": 14,
      "outputs": [
        {
          "output_type": "stream",
          "name": "stdout",
          "text": [
            "Enter grade: 10\n",
            "Enter grade: 20\n",
            "Enter grade: 30\n",
            "Enter grade: 40\n",
            "Enter grade: 50\n",
            "Enter grade: 60\n",
            "Enter grade: 70\n",
            "Enter grade: 80\n",
            "Enter grade: 90\n",
            "Enter grade: 100\n",
            "55.0\n"
          ]
        }
      ]
    }
  ]
}