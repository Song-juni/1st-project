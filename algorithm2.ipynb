{
  "nbformat": 4,
  "nbformat_minor": 0,
  "metadata": {
    "colab": {
      "name": "a2.ipynb",
      "provenance": [],
      "collapsed_sections": [],
      "authorship_tag": "ABX9TyOVsxebeZpXQvvTsTnuNyQc",
      "include_colab_link": true
    },
    "kernelspec": {
      "name": "python3",
      "display_name": "Python 3"
    },
    "language_info": {
      "name": "python"
    }
  },
  "cells": [
    {
      "cell_type": "markdown",
      "metadata": {
        "id": "view-in-github",
        "colab_type": "text"
      },
      "source": [
        "<a href=\"https://colab.research.google.com/github/Song-juni/1st-project/blob/main/algorithm2.ipynb\" target=\"_parent\"><img src=\"https://colab.research.google.com/assets/colab-badge.svg\" alt=\"Open In Colab\"/></a>"
      ]
    },
    {
      "cell_type": "code",
      "execution_count": null,
      "metadata": {
        "colab": {
          "base_uri": "https://localhost:8080/"
        },
        "id": "rtNBGRw8fqHz",
        "outputId": "9c45be85-190e-4930-9af8-f49847fa0ebd"
      },
      "outputs": [
        {
          "output_type": "stream",
          "name": "stdout",
          "text": [
            "Enter grade: 10\n",
            "Enter grade: 20\n",
            "Enter grade: 30\n",
            "Enter grade: 40\n",
            "Enter grade: 50\n",
            "Enter grade: 60\n",
            "Enter grade: 70\n",
            "Enter grade: 80\n",
            "Enter grade: 90\n",
            "Enter grade: 100\n",
            "55.0\n"
          ]
        }
      ],
      "source": [
        "total = 0\n",
        "counter = 1\n",
        "while counter <= 10:\n",
        "    grade = int(input (\"Enter grade: \"))\n",
        "    total = grade + total\n",
        "    counter = counter + 1\n",
        "average = total / 10\n",
        "print(average)"
      ]
    },
    {
      "cell_type": "code",
      "source": [
        "print(\"3개의 값을 입력하시오\")\n",
        "x = int(input(\"Enter the x: \"))\n",
        "y = int(input(\"Enter the y: \"))\n",
        "z = int(input(\"Enter the z: \"))\n",
        "x = x + 1\n",
        "y = y + 1\n",
        "z = z + 1\n",
        "\n",
        "print(\"변경된 값 : \",x ,y, z )"
      ],
      "metadata": {
        "id": "kxvMPBMIgqyV",
        "colab": {
          "base_uri": "https://localhost:8080/"
        },
        "outputId": "a3db6f26-fc37-4f53-da91-5a6e61a43f12"
      },
      "execution_count": 5,
      "outputs": [
        {
          "output_type": "stream",
          "name": "stdout",
          "text": [
            "3개의 값을 입력하시오\n",
            "Enter the x: 2\n",
            "Enter the y: 4\n",
            "Enter the z: 6\n",
            "변경된 값 :  3 5 7\n"
          ]
        }
      ]
    },
    {
      "cell_type": "code",
      "source": [
        "a = 10\n",
        "b = 8750\n",
        "c = a * b\n",
        "print(c)"
      ],
      "metadata": {
        "colab": {
          "base_uri": "https://localhost:8080/"
        },
        "id": "MQvUih50j_yE",
        "outputId": "e1bc00f5-05bb-4b08-b500-08e554f6d3c4"
      },
      "execution_count": 6,
      "outputs": [
        {
          "output_type": "stream",
          "name": "stdout",
          "text": [
            "87500\n"
          ]
        }
      ]
    },
    {
      "cell_type": "code",
      "source": [
        "pay_rate = 8750\n",
        "hours_worked = int(input(\"일을 한 전체 시간입력하세요!: \"))\n",
        "monthly_pay = hours_worked * pay_rate\n",
        "print(monthly_pay)"
      ],
      "metadata": {
        "colab": {
          "base_uri": "https://localhost:8080/"
        },
        "id": "MxbM9XJ7kHz9",
        "outputId": "63e8ab21-edf7-44e8-de53-0537c41ef5be"
      },
      "execution_count": 7,
      "outputs": [
        {
          "output_type": "stream",
          "name": "stdout",
          "text": [
            "일을 한 전체 시간입력하세요!: 4\n",
            "35000\n"
          ]
        }
      ]
    },
    {
      "cell_type": "code",
      "source": [
        "won = 100000\n",
        "usd = won * 1130\n",
        "print(usd)"
      ],
      "metadata": {
        "colab": {
          "base_uri": "https://localhost:8080/"
        },
        "id": "MQlvjFDKkiTa",
        "outputId": "fd1bc9c2-51ff-4629-cfd9-6017e49769aa"
      },
      "execution_count": 8,
      "outputs": [
        {
          "output_type": "stream",
          "name": "stdout",
          "text": [
            "113000000\n"
          ]
        }
      ]
    },
    {
      "cell_type": "code",
      "source": [
        "exchange_rate = int(input(\"현재 환율입력: \"))\n",
        "won = 100000\n",
        "usd = won * exchange_rate\n",
        "print(usd)"
      ],
      "metadata": {
        "colab": {
          "base_uri": "https://localhost:8080/"
        },
        "id": "RedbAEdOktAS",
        "outputId": "ab85f88f-ec36-4485-a25f-c4efd9e11daf"
      },
      "execution_count": 9,
      "outputs": [
        {
          "output_type": "stream",
          "name": "stdout",
          "text": [
            "현재 환율입력: 10000\n",
            "1000000000\n"
          ]
        }
      ]
    },
    {
      "cell_type": "code",
      "source": [
        "fahrenheit = 100\n",
        "celsius = fahrenheit-32\n",
        "celsius = celsius * 5\n",
        "celsius = celsius / 9\n",
        "print(celsius)"
      ],
      "metadata": {
        "colab": {
          "base_uri": "https://localhost:8080/"
        },
        "id": "HcRhKI0slDY1",
        "outputId": "6932b50a-149a-4203-e8e3-34030dfe782f"
      },
      "execution_count": 10,
      "outputs": [
        {
          "output_type": "stream",
          "name": "stdout",
          "text": [
            "37.77777777777778\n"
          ]
        }
      ]
    },
    {
      "cell_type": "code",
      "source": [
        "x = 0\n",
        "y = 0\n",
        "x = int(input(\"정수 x를 입력하시오: \"))\n",
        "y = int(input(\"정수 x를 입력하시오: \"))\n",
        "sum = x + y\n",
        "print(sum)"
      ],
      "metadata": {
        "colab": {
          "base_uri": "https://localhost:8080/"
        },
        "id": "YPvakS_3lYBu",
        "outputId": "40e2ef74-0d12-4915-cf6c-bb7368a668c3"
      },
      "execution_count": 11,
      "outputs": [
        {
          "output_type": "stream",
          "name": "stdout",
          "text": [
            "정수 x를 입력하시오: 20\n",
            "정수 x를 입력하시오: 7\n",
            "27\n"
          ]
        }
      ]
    },
    {
      "cell_type": "code",
      "source": [
        "price = int(input(\"상품의 가격을 입력하시오: \"))\n",
        "vat = price * 0.1\n",
        "print(vat)"
      ],
      "metadata": {
        "colab": {
          "base_uri": "https://localhost:8080/"
        },
        "id": "rjzViYZzl0YY",
        "outputId": "7b0bbadc-4d69-41ae-9712-e40794095da5"
      },
      "execution_count": 12,
      "outputs": [
        {
          "output_type": "stream",
          "name": "stdout",
          "text": [
            "상품의 가격을 입력하시오: 39800\n",
            "3980.0\n"
          ]
        }
      ]
    },
    {
      "cell_type": "code",
      "source": [
        "age = int(input(\"현재 나이를 입력하시오: \"))\n",
        "age = age + 10\n",
        "print(\"10년후면\", age, \"세가 되시는 군요\")"
      ],
      "metadata": {
        "colab": {
          "base_uri": "https://localhost:8080/"
        },
        "id": "k_ed2F-SmDVB",
        "outputId": "e3944228-e1cf-442c-ca6b-69cb1fb0705a"
      },
      "execution_count": 13,
      "outputs": [
        {
          "output_type": "stream",
          "name": "stdout",
          "text": [
            "현재 나이를 입력하시오: 27\n",
            "10년후면 37 세가 되시는 군요\n"
          ]
        }
      ]
    },
    {
      "cell_type": "code",
      "source": [
        "print(\"#######################\")\n",
        "print(\"#배송료 계산 프로그램#\")\n",
        "print(\"#######################\")\n",
        "price = int(input(\"상품의 가격을 입력하세요: \"))\n",
        "if price > 2000:\n",
        "    shipping_cost = 0\n",
        "else:\n",
        "    shipping_cost = 3000\n",
        "print(shipping_cost)"
      ],
      "metadata": {
        "colab": {
          "base_uri": "https://localhost:8080/"
        },
        "id": "Pk3Nr_ntmiEB",
        "outputId": "c8cfaafc-a2be-4a13-bf92-1e6bf843e2c5"
      },
      "execution_count": 16,
      "outputs": [
        {
          "output_type": "stream",
          "name": "stdout",
          "text": [
            "#######################\n",
            "#배송료 계산 프로그램#\n",
            "#######################\n",
            "상품의 가격을 입력하세요: 1990\n",
            "3000\n"
          ]
        }
      ]
    },
    {
      "cell_type": "code",
      "source": [
        "print(\"########################\")\n",
        "print(\"# 합격 불합격 프로그램 #\")\n",
        "print(\"########################\")\n",
        "\n",
        "grade = int(input(\"성적을 입력하시오: \"))\n",
        "\n",
        "if grade >= 60:\n",
        "    print(\"합격\")\n",
        "else: \n",
        "    print(\"불합격\")"
      ],
      "metadata": {
        "colab": {
          "base_uri": "https://localhost:8080/"
        },
        "id": "0mC8xO1Bne_0",
        "outputId": "7f63a02c-0e97-481d-f253-aeb3ec2bed00"
      },
      "execution_count": 24,
      "outputs": [
        {
          "output_type": "stream",
          "name": "stdout",
          "text": [
            "########################\n",
            "# 합격 불합격 프로그램 #\n",
            "########################\n",
            "성적을 입력하시오: 70\n",
            "합격\n"
          ]
        }
      ]
    },
    {
      "cell_type": "code",
      "source": [
        "print(\"근무 시간을 입력하시오\")\n",
        "work_hour = int(input(\"근무시간 입력: \"))\n",
        "\n",
        "if work_hour > 72:\n",
        "    print(\"초과근무 하셨습니다.\")\n",
        "else:\n",
        "    print(\"정상근무하셨습니다.\")"
      ],
      "metadata": {
        "colab": {
          "base_uri": "https://localhost:8080/"
        },
        "id": "cchza88gpUib",
        "outputId": "d91d17c7-ca25-48c5-bf2a-79a46e548186"
      },
      "execution_count": 25,
      "outputs": [
        {
          "output_type": "stream",
          "name": "stdout",
          "text": [
            "근무 시간을 입력하시오\n",
            "근무시간 입력: 60\n",
            "정상근무하셨습니다.\n"
          ]
        }
      ]
    },
    {
      "cell_type": "code",
      "source": [
        "print(\"###############################\")\n",
        "print(\"# 짝수와 홀수 판별 앱 #\")\n",
        "print(\"###############################\")\n",
        "\n",
        "x = int(input(\"x값 정수를 입력하시오: \"))\n",
        "if (x % 2) != 0:\n",
        "    print(\"홀수입니다.\")\n",
        "else:\n",
        "    print(\"짝수입니다.\")"
      ],
      "metadata": {
        "colab": {
          "base_uri": "https://localhost:8080/"
        },
        "id": "zQ7a-MmBpzJT",
        "outputId": "8f6ac786-0525-4425-fe7b-32494fe69f26"
      },
      "execution_count": 27,
      "outputs": [
        {
          "output_type": "stream",
          "name": "stdout",
          "text": [
            "###############################\n",
            "# 짝수와 홀수 판별 앱 #\n",
            "###############################\n",
            "x값 정수를 입력하시오: 27\n",
            "홀수입니다.\n"
          ]
        }
      ]
    },
    {
      "cell_type": "code",
      "source": [
        "print(\"정수를 입력하시오.\")\n",
        "x = int(input(\"정수값 x를 입력하시오.: \"))\n",
        "y = int(input(\"정수값 y를 입력하시오.: \"))\n",
        "if x > y:\n",
        "    print(x)\n",
        "else:\n",
        "    print(y)"
      ],
      "metadata": {
        "colab": {
          "base_uri": "https://localhost:8080/"
        },
        "id": "Vrbf8BGoqYHc",
        "outputId": "1c2f7199-9773-46af-a61d-69eb04cb14a5"
      },
      "execution_count": 28,
      "outputs": [
        {
          "output_type": "stream",
          "name": "stdout",
          "text": [
            "정수를 입력하시오.\n",
            "정수값 x를 입력하시오.: 11\n",
            "정수값 y를 입력하시오.: 3\n",
            "11\n"
          ]
        }
      ]
    },
    {
      "cell_type": "code",
      "source": [
        "print(\"#################################\")\n",
        "print(\" 이름, 나이, 답변 앱 #\")\n",
        "print(\"#################################\")\n",
        "\n",
        "yu_name = str(input(\"이름: \"))\n",
        "yu_age = int(input(\"나이: \"))\n",
        "\n",
        "if yu_age <= 25:\n",
        "    print(\"와우!!! 프로그래밍을 완벽하게 배울수 있는 나이입니다!\")\n",
        "else:\n",
        "    print(\"포기하기에는 아직 늦지 않았습니다.\")\n",
        "print(\"/n\")"
      ],
      "metadata": {
        "colab": {
          "base_uri": "https://localhost:8080/"
        },
        "id": "4JDp3RyNq4eG",
        "outputId": "3984a250-2059-4dea-d9e8-5914bb9974f8"
      },
      "execution_count": 29,
      "outputs": [
        {
          "output_type": "stream",
          "name": "stdout",
          "text": [
            "#################################\n",
            " 이름, 나이, 답변 앱 #\n",
            "#################################\n",
            "이름: 송준\n",
            "나이: 27\n",
            "포기하기에는 아직 늦지 않았습니다.\n",
            "/n\n"
          ]
        }
      ]
    },
    {
      "cell_type": "code",
      "source": [
        "price = int(input(\"상품의 가격을 입력하세요.: \"))\n",
        "\n",
        "if price > 100000:\n",
        "    shipping_cost = 0\n",
        "else:\n",
        "    if price > 2000:\n",
        "      shipping_cost = 3000\n",
        "    else:\n",
        "      shipping_cost = 5000\n",
        "\n",
        "print(\"배송료는\", shipping_cost, \"입니다.\")"
      ],
      "metadata": {
        "colab": {
          "base_uri": "https://localhost:8080/"
        },
        "id": "ragJkaNPr6Oy",
        "outputId": "6421f789-4511-46ee-a832-8ac8c3dbef92"
      },
      "execution_count": 30,
      "outputs": [
        {
          "output_type": "stream",
          "name": "stdout",
          "text": [
            "상품의 가격을 입력하세요.: 23500\n",
            "배송료는 3000 입니다.\n"
          ]
        }
      ]
    }
  ]
}